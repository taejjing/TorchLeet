{
 "cells": [
  {
   "cell_type": "code",
   "execution_count": 1,
   "id": "8d0a92b4",
   "metadata": {},
   "outputs": [],
   "source": [
    "import math\n",
    "import torch\n",
    "from torch import nn"
   ]
  },
  {
   "cell_type": "code",
   "execution_count": 2,
   "id": "d0f72be9",
   "metadata": {},
   "outputs": [],
   "source": [
    "from dataclasses import dataclass\n",
    "\n",
    "\n",
    "@dataclass\n",
    "class LlamaConfig:\n",
    "    vocab_size: int  # (토큰 id 갯수)\n",
    "    hidden_size: int # (토큰당 임베딩 차원 크기)\n",
    "    intermediate_size: int # (MLP 막 거친 차원 크기)\n",
    "    num_hidden_layers: int # (디코딩 레이어 갯수)\n",
    "    attention_heads: int # Query 헤드\n",
    "    key_value_heads: int # KV 헤드\n",
    "    hidden_act: str # (FFN 활성화 함수)\n",
    "    max_position_embeddings: int #(시퀀스 길이)"
   ]
  },
  {
   "cell_type": "code",
   "execution_count": 3,
   "id": "ef8bdaa8",
   "metadata": {},
   "outputs": [],
   "source": [
    "class RMSNorm(nn.Module):\n",
    "    def __init__(self, hidden_size: int, eps: float = 1e-6):\n",
    "        super(RMSNorm, self).__init__()\n",
    "        self.gamma = nn.Parameter(torch.ones(hidden_size))\n",
    "        self.eps = eps\n",
    "    \n",
    "    def forward(self, x: torch.Tensor):\n",
    "        rms_x = x.square().mean(dim=-1, keepdim=True).sqrt()\n",
    "        return self.gamma * x / (rms_x + self.eps)"
   ]
  },
  {
   "cell_type": "code",
   "execution_count": 4,
   "id": "99162d8b",
   "metadata": {},
   "outputs": [],
   "source": [
    "class RoPE(nn.Module):\n",
    "    def __init__(self, hidden_size: int):\n",
    "        super(RoPE, self).__init__()\n",
    "        d_indices = torch.arange(0, hidden_size / 2, dtype=torch.float32)  # size: hidden_size / 2\n",
    "        theta = torch.exp(d_indices * -2 * math.log(10000) / hidden_size)  # 10000^(-2i/d) == exp((-2i/d) * log(10000))\n",
    "        \n",
    "        self.register_buffer('theta', theta) # device 연동\n",
    "        \n",
    "    def forward(self, x: torch.Tensor):  # x: (n, seq_len, hidden_size)\n",
    "        seq_len = x.size(-2)\n",
    "        m_theta = torch.matmul(torch.arange(seq_len).float().view(-1, 1), self.theta.view(1, -1))\n",
    "        m_theta = m_theta.repeat_interleave(2, dim=-1) # (1, 2, 3) -> (1, 1, 2, 2, 3, 3)\n",
    "\n",
    "        x_flip = torch.stack([-x[:, :, 1::2], x[:, :, ::2], ], dim=-1).flatten(start_dim=-2)  # -x2, x1, -x4, x3 ...\n",
    "        rotated_x = torch.mul(x, torch.cos(m_theta)) + torch.mul(x_flip, torch.sin(m_theta))\n",
    "        return rotated_x"
   ]
  },
  {
   "cell_type": "code",
   "execution_count": null,
   "id": "6b16246d",
   "metadata": {},
   "outputs": [],
   "source": [
    "class RoPESelfAttention(nn.Module):\n",
    "    def __init__(self, config: LlamaConfig):\n",
    "        super(RoPESelfAttention, self).__init__()\n",
    "\n",
    "        self.num_attention_heads = config.attention_heads\n",
    "        self.head_size = int(config.hidden_size / self.num_attention_heads)\n",
    "        \n",
    "        self.query = nn.Linear(config.hidden_size, config.hidden_size, bias=False)\n",
    "        self.key = nn.Linear(config.hidden_size, config.hidden_size, bias=False)\n",
    "        self.value = nn.Linear(config.hidden_size, config.hidden_size)\n",
    "\n",
    "        self.rms_norm = RMSNorm(config.hidden_size) # 2개?\n",
    "        self.rope = RoPE(config.hidden_size)\n",
    "    \n",
    "    def to_multi_heads(self, x: torch.Tensor):\n",
    "        n, seq_len, _ = x.size()\n",
    "        mh = x.view(n, seq_len, self.num_attention_heads, self.head_size)\n",
    "        return mh.permute(0, 2, 1, 3)\n",
    "\n",
    "    def forward(self, x: torch.Tensor):  # x: (n, seq_len, hidden_size)\n",
    "        x_norm = self.rms_norm(x)\n",
    "        q = self.rope(self.query(x_norm))\n",
    "        k = self.rope(self.key(x_norm))\n",
    "        v = self.value(x_norm)\n",
    "\n",
    "        q = self.to_multi_heads(q) # q, k, v (n, num_heads, seq_len, hidden_size)\n",
    "        k = self.to_multi_heads(k)\n",
    "        v = self.to_multi_heads(v)\n",
    "\n",
    "        atten_score = torch.matmul(q, k.transpose(-1, -2))\n",
    "        \n",
    "        # head_size scaling\n",
    "        \n",
    "        # add attention mask\n",
    "        \n",
    "        # get probs\n",
    "        attention_probs = torch.softmax(atten_score, dim=-1)\n",
    "        \n",
    "        # dropout\n",
    "        \n",
    "        context = torch.matmul(attention_probs, v)\n",
    "        context = context.permute(0, 2, 1, 3).contiguous().view(x.size()) # why contiguous?\n",
    "        return x + context\n",
    "        "
   ]
  },
  {
   "cell_type": "code",
   "execution_count": null,
   "id": "e5e0bbde",
   "metadata": {},
   "outputs": [],
   "source": [
    "class SwiGLU(nn.Module):\n",
    "    ..."
   ]
  },
  {
   "cell_type": "code",
   "execution_count": null,
   "id": "378a1a9d",
   "metadata": {},
   "outputs": [],
   "source": [
    "class Llama2Decoder(nn.Module):\n",
    "    def __init__(self, config: LlamaConfig):\n",
    "        super(Llama2Decoder, self).__init__()\n",
    "        self.attn = RoPESelfAttention(config)\n",
    "        self.rms_norm = RMSNorm(config.hidden_size)\n",
    "        self.swiglu = SwiGLU()\n",
    "    \n",
    "    def forward(self, x: torch.Tensor):\n",
    "        context = self.attn(x)\n",
    "        context_norm = self.rms_norm(context)\n",
    "\n",
    "\n",
    "        # swiglu\n",
    "\n",
    "        # ff\n",
    "\n",
    "        # add x\n",
    "\n",
    "        # return output\n",
    "        \n",
    "    ..."
   ]
  },
  {
   "cell_type": "code",
   "execution_count": null,
   "id": "bfd2720b",
   "metadata": {},
   "outputs": [],
   "source": [
    "class Llama2Model(nn.Module):\n",
    "    ..."
   ]
  },
  {
   "cell_type": "code",
   "execution_count": null,
   "id": "db988343",
   "metadata": {},
   "outputs": [],
   "source": [
    "batch_size = 32\n",
    "hidden_size = 256\n",
    "seq_len = 20\n",
    "x = torch.randn(batch_size, seq_len, hidden_size)\n",
    "x.shape"
   ]
  },
  {
   "cell_type": "code",
   "execution_count": 63,
   "id": "5959deb1",
   "metadata": {},
   "outputs": [],
   "source": [
    "config = LlamaConfig(1, hidden_size, 1, 1, 8, 1, \"\", 1)\n",
    "attn = RoPESelfAttention(config)"
   ]
  },
  {
   "cell_type": "code",
   "execution_count": 64,
   "id": "5b49d773",
   "metadata": {},
   "outputs": [],
   "source": [
    "res = attn(x)"
   ]
  },
  {
   "cell_type": "code",
   "execution_count": 66,
   "id": "d26d3285",
   "metadata": {},
   "outputs": [
    {
     "data": {
      "text/plain": [
       "torch.Size([32, 20, 256])"
      ]
     },
     "execution_count": 66,
     "metadata": {},
     "output_type": "execute_result"
    }
   ],
   "source": [
    "res.shape"
   ]
  },
  {
   "cell_type": "code",
   "execution_count": null,
   "id": "99cfd686",
   "metadata": {},
   "outputs": [],
   "source": []
  }
 ],
 "metadata": {
  "kernelspec": {
   "display_name": ".venv",
   "language": "python",
   "name": "python3"
  },
  "language_info": {
   "codemirror_mode": {
    "name": "ipython",
    "version": 3
   },
   "file_extension": ".py",
   "mimetype": "text/x-python",
   "name": "python",
   "nbconvert_exporter": "python",
   "pygments_lexer": "ipython3",
   "version": "3.13.2"
  }
 },
 "nbformat": 4,
 "nbformat_minor": 5
}
